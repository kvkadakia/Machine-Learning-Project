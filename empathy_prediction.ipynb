{
 "cells": [
  {
   "cell_type": "markdown",
   "metadata": {},
   "source": [
    "# Homework 5: Mini-project\n",
    "\n",
    "\n",
    "Task Description: You are working for a non-profit that is recruiting student volunteers to help with Alzheimer’s patients. You have been tasked with predicting how suitable a person is for this task by predicting how empathetic he or she is.\n",
    "\n",
    "We make use of the Young People\tSurvey dataset, please find the link to the dataset below:\n",
    "https://www.kaggle.com/miroslavsabo/young-people-survey/\n",
    "\n",
    "Predict a person’s “empathy” on a scale from 1 to 5."
   ]
  },
  {
   "cell_type": "markdown",
   "metadata": {},
   "source": [
    "\n",
    "\n",
    "Imports:"
   ]
  },
  {
   "cell_type": "code",
   "execution_count": 204,
   "metadata": {},
   "outputs": [],
   "source": [
    "import pandas\n",
    "import numpy as np\n",
    "from sklearn.model_selection import train_test_split\n",
    "from sklearn.linear_model import LinearRegression\n",
    "from sklearn.metrics import accuracy_score\n",
    "from sklearn.ensemble import ExtraTreesClassifier\n",
    "from sklearn.linear_model import LogisticRegression\n",
    "from sklearn.feature_selection import RFE\n",
    "from sklearn.svm import LinearSVC\n",
    "from sklearn.ensemble import RandomForestClassifier\n",
    "from sklearn.multiclass import OneVsRestClassifier\n",
    "from sklearn.ensemble import BaggingClassifier\n",
    "from sklearn.neighbors import KNeighborsClassifier\n",
    "from sklearn.linear_model import LogisticRegression\n",
    "from sklearn.naive_bayes import GaussianNB\n",
    "from sklearn.ensemble import RandomForestClassifier\n",
    "from sklearn.ensemble import VotingClassifier\n",
    "from sklearn.model_selection import GridSearchCV\n",
    "from sklearn.svm import SVC\n",
    "from sklearn.tree import DecisionTreeClassifier\n",
    "import matplotlib.pyplot as plt\n",
    "from sklearn import model_selection\n",
    "from sklearn.linear_model import LogisticRegression\n",
    "from sklearn.tree import DecisionTreeClassifier\n",
    "from sklearn.neighbors import KNeighborsClassifier\n",
    "from sklearn.discriminant_analysis import LinearDiscriminantAnalysis"
   ]
  },
  {
   "cell_type": "markdown",
   "metadata": {},
   "source": [
    "# Part 1: a) Cleaning the data\n"
   ]
  },
  {
   "cell_type": "markdown",
   "metadata": {},
   "source": [
    "Here, we'll clean up the data firstly in order to remove unnecessary values.\n",
    "\n",
    "For replacing NAN values we simply find the NAN values and replace them by the column median:"
   ]
  },
  {
   "cell_type": "code",
   "execution_count": 205,
   "metadata": {},
   "outputs": [],
   "source": [
    "dataset = pandas.read_csv('responses.csv')\n",
    "\n",
    "#fill up with median\n",
    "dataset = dataset.fillna(dataset.median(axis=0))\n",
    "\n",
    "#Storing the values to perform data visualization in  a later step\n",
    "gender_values = dataset[['Gender']].values\n",
    "empathy_values = dataset[['Empathy']].values\n",
    "music_values = dataset[['Music']]\n",
    "\n",
    "music_values = music_values.values\n",
    "emp_valuesforline = np.squeeze(empathy_values)\n",
    "music_valuesforline = np.squeeze(music_values)"
   ]
  },
  {
   "cell_type": "markdown",
   "metadata": {},
   "source": [
    "# Part 1: b) Applying one hot encoding on the categorical values\n"
   ]
  },
  {
   "cell_type": "markdown",
   "metadata": {},
   "source": [
    "Categorical variables are converted into a form that could be provided to the ML algorithm to do a better job in prediction."
   ]
  },
  {
   "cell_type": "code",
   "execution_count": 206,
   "metadata": {},
   "outputs": [],
   "source": [
    "# Applying one hot encoding on Categorical values\n",
    "dataset = pandas.get_dummies(dataset, columns=['Punctuality','Alcohol','Smoking', 'Lying', 'Internet usage', 'Gender','Left - right handed','Education','Only child','Village - town','House - block of flats'])"
   ]
  },
  {
   "cell_type": "markdown",
   "metadata": {},
   "source": [
    "Now we drop the Empathy column since it has to be predicted and hence not to be used for prediction\n",
    "\n",
    "Y has empathy in it, since it has to be predicted. X has all the values except for empathy, thus I make use of all the other columns except for Empathy to predict the Empathy."
   ]
  },
  {
   "cell_type": "code",
   "execution_count": 207,
   "metadata": {},
   "outputs": [],
   "source": [
    "Y = dataset[['Empathy']]\n",
    "X = dataset.drop(['Empathy'], axis=1)"
   ]
  },
  {
   "cell_type": "markdown",
   "metadata": {},
   "source": [
    "# Part 2: Pie Chart to visualize the data\n",
    "        \n",
    "By looking at the pie chart below one can analyze the distribution of empathy between Males and Females. I have considered the values greater than or equal to 4 to be empathetic. Thus, from the plot below one can infer the Empathy distribution of Males and Females in the dataset"
   ]
  },
  {
   "cell_type": "code",
   "execution_count": 208,
   "metadata": {},
   "outputs": [
    {
     "data": {
      "image/png": "[encoded data removed]",
      "text/plain": [
       "<matplotlib.figure.Figure at 0x7f6156fc74e0>"
      ]
     },
     "metadata": {},
     "output_type": "display_data"
    }
   ],
   "source": [
    "import matplotlib.pyplot as plt\n",
    "\n",
    "ma_empathetic = 0\n",
    "fe_empathetic = 0\n",
    "\n",
    "\n",
    "for i,value in enumerate(gender_values):\n",
    "    if(value == 'male' and empathy_values[i]>=4):\n",
    "        ma_empathetic += 1\n",
    "    elif(value == 'female' and empathy_values[i]>=4):\n",
    "        fe_empathetic += 1\n",
    "\n",
    "labels = ['Male','Female']\n",
    "sizes = [ma_empathetic, fe_empathetic]\n",
    "\n",
    "fig1, ax1 = plt.subplots()\n",
    "ax1.pie(sizes,  labels=labels, autopct='%1.1f%%',shadow=True, startangle=90)\n",
    "ax1.axis('equal')  \n",
    "plt.title('Male vs Female Empathy', bbox={'facecolor':'0.8', 'pad':5})\n",
    "plt.show()"
   ]
  },
  {
   "cell_type": "markdown",
   "metadata": {},
   "source": [
    "# Part 3: Selecting the best features to predict Empathy\n",
    "\n",
    "Here, we select the best features by using the training data in order to predict Empathy by using Recursive Feature Elimination\n",
    "\n",
    "The Recursive Feature Elimination (or RFE) works by recursively removing attributes and building a model on those attributes that remain. It uses the model accuracy to identify which attributes contribute the most to predicting the target attribute. Below we use RFE with the logistic regression algorithm to select the top 141 features from the given set of features.\n",
    "\n",
    "\n",
    "You can further change the values of the number of attributes being used for predicition and find out how changing the number of attributes affects the accuracy of the model"
   ]
  },
  {
   "cell_type": "code",
   "execution_count": 209,
   "metadata": {},
   "outputs": [
    {
     "name": "stdout",
     "output_type": "stream",
     "text": [
      "Num Features: 141\n",
      "Selected Features: [ True  True  True  True  True  True  True  True False  True False False\n",
      "  True False  True  True  True  True  True  True  True  True  True  True\n",
      "  True  True  True  True  True  True  True False  True  True  True  True\n",
      "  True  True False  True  True  True  True False  True False  True  True\n",
      "  True  True False  True False False False  True  True  True  True  True\n",
      "  True  True  True False False  True  True  True False False False  True\n",
      "  True  True  True  True  True  True  True  True  True False  True  True\n",
      "  True  True  True False False  True  True False  True  True  True  True\n",
      " False  True False  True  True  True  True  True  True  True False  True\n",
      "  True  True  True  True  True  True  True  True False  True  True  True\n",
      "  True  True  True  True  True  True False  True  True  True  True  True\n",
      "  True  True False False False False  True  True  True  True  True  True\n",
      "  True False  True  True  True  True  True  True  True  True  True  True\n",
      "  True  True  True  True  True  True  True  True  True  True  True  True\n",
      "  True  True  True  True]\n",
      "Feature Ranking: [ 1  1  1  1  1  1  1  1 16  1 18  2  1  3  1  1  1  1  1  1  1  1  1  1\n",
      "  1  1  1  1  1  1  1 29  1  1  1  1  1  1 12  1  1  1  1 15  1 19  1  1\n",
      "  1  1  4  1 23  9 21  1  1  1  1  1  1  1  1  5  6  1  1  1 30 17  8  1\n",
      "  1  1  1  1  1  1  1  1  1 10  1  1  1  1  1 27 25  1  1  7  1  1  1  1\n",
      " 26  1 22  1  1  1  1  1  1  1 28  1  1  1  1  1  1  1  1  1 13  1  1  1\n",
      "  1  1  1  1  1  1 20  1  1  1  1  1  1  1 24 31 32 14  1  1  1  1  1  1\n",
      "  1 11  1  1  1  1  1  1  1  1  1  1  1  1  1  1  1  1  1  1  1  1  1  1\n",
      "  1  1  1  1]\n"
     ]
    }
   ],
   "source": [
    "model = LogisticRegression()\n",
    "rfe = RFE(model, 141)\n",
    "fit = rfe.fit(X, Y)\n",
    "print(\"Num Features: {}\".format(fit.n_features_))\n",
    "print(\"Selected Features: {}\".format(fit.support_))\n",
    "print(\"Feature Ranking: {}\".format(fit.ranking_))"
   ]
  },
  {
   "cell_type": "markdown",
   "metadata": {},
   "source": [
    "In the feature ranking list above the features that are ranked 1 are found out by using RFE. I have set the value as 141 features by experimentation on the validation data.\n",
    "\n",
    "Now, below I append the index of the selected elements by checking the columns ranked 1 which can be found using the fit.ranking_ call "
   ]
  },
  {
   "cell_type": "code",
   "execution_count": 210,
   "metadata": {},
   "outputs": [],
   "source": [
    "#Find the index of the columns that are ranked 1\n",
    "count = 0\n",
    "val_index = []\n",
    "for x in np.nditer(fit.ranking_):\n",
    "    if(x==1):\n",
    "        val_index.append(count)\n",
    "    count+=1\n",
    "\n",
    "#Add the column names to the list corresponding to the indices that are stored  \n",
    "pos = 0\n",
    "top_feat = []\n",
    "for i,k in enumerate(X):\n",
    "    if(i==val_index[pos]):\n",
    "        top_feat.append(k)\n",
    "        if(pos == len(val_index)-1):\n",
    "            break\n",
    "        pos+=1"
   ]
  },
  {
   "cell_type": "markdown",
   "metadata": {},
   "source": [
    "You can check the top attributes found using RFE below:"
   ]
  },
  {
   "cell_type": "code",
   "execution_count": 211,
   "metadata": {},
   "outputs": [
    {
     "name": "stdout",
     "output_type": "stream",
     "text": [
      "['Music', 'Slow songs or fast songs', 'Dance', 'Folk', 'Country', 'Classical music', 'Musical', 'Pop', 'Metal or Hardrock', 'Reggae, Ska', 'Rock n roll', 'Alternative', 'Latino', 'Techno, Trance', 'Opera', 'Movies', 'Horror', 'Thriller', 'Comedy', 'Romantic', 'Sci-fi', 'War', 'Fantasy/Fairy tales', 'Animated', 'Documentary', 'Western', 'Action', 'Psychology', 'Politics', 'Mathematics', 'Physics', 'Internet', 'PC', 'Biology', 'Chemistry', 'Reading', 'Geography', 'Medicine', 'Cars', 'Art exhibitions', 'Religion', 'Countryside, outdoors', 'Musical instruments', 'Gardening', 'Celebrities', 'Shopping', 'Science and technology', 'Theatre', 'Fun with friends', 'Adrenaline sports', 'Pets', 'Darkness', 'Heights', 'Spiders', 'Dangerous dogs', 'Fear of public speaking', 'Healthy eating', 'Daily events', 'Prioritising workload', 'Writing notes', 'Workaholism', 'Thinking ahead', 'Final judgement', 'Reliability', 'Loss of interest', 'Friends versus money', 'Funniness', 'Fake', 'Criminal damage', 'Self-criticism', 'Judgment calls', 'Eating to survive', 'Giving', 'Compassion to animals', 'Borrowed stuff', 'Cheating in school', 'Changing the past', 'God', 'Dreams', 'Charity', 'Number of friends', 'Waiting', 'New environment', 'Appearence and gestures', 'Socializing', 'Achievements', 'Responding to a serious letter', 'Children', 'Assertiveness', 'Getting angry', 'Knowing the right people', 'Public speaking', 'Life struggles', 'Happiness in life', 'Energy levels', 'Small - big dogs', 'Personality', 'Finding lost valuables', 'Getting up', 'Interests or hobbies', \"Parents' advice\", 'Finances', 'Shopping centres', 'Branded clothing', 'Entertainment spending', 'Spending on looks', 'Spending on gadgets', 'Spending on healthy eating', 'Punctuality_i am always on time', 'Punctuality_i am often early', 'Punctuality_i am often running late', 'Alcohol_drink a lot', 'Alcohol_never', 'Alcohol_social drinker', 'Smoking_current smoker', 'Smoking_never smoked', 'Smoking_tried smoking', 'Lying_everytime it suits me', 'Lying_never', 'Lying_only to avoid hurting someone', 'Lying_sometimes', 'Internet usage_few hours a day', 'Internet usage_less than an hour a day', 'Internet usage_most of the day', 'Internet usage_no time at all', 'Gender_female', 'Gender_male', 'Left - right handed_left handed', 'Left - right handed_right handed', 'Education_college/bachelor degree', 'Education_currently a primary school pupil', 'Education_doctorate degree', 'Education_masters degree', 'Education_primary school', 'Education_secondary school', 'Only child_no', 'Only child_yes', 'Village - town_city', 'Village - town_village', 'House - block of flats_block of flats', 'House - block of flats_house/bungalow']\n"
     ]
    }
   ],
   "source": [
    "print(top_feat)"
   ]
  },
  {
   "cell_type": "markdown",
   "metadata": {},
   "source": [
    "Adding the top selected values to the variable X "
   ]
  },
  {
   "cell_type": "code",
   "execution_count": 212,
   "metadata": {},
   "outputs": [],
   "source": [
    "X = dataset[top_feat]"
   ]
  },
  {
   "cell_type": "markdown",
   "metadata": {},
   "source": [
    "# Part 4: Splitting the data into train test and validation\n",
    "\n",
    "Splitting the data into train test and development. I have made use of the development data to tune the hyperparameters below by performing cross validation and also trying out different values of parameters in order to find out which parameters work best for prediction."
   ]
  },
  {
   "cell_type": "code",
   "execution_count": 213,
   "metadata": {},
   "outputs": [],
   "source": [
    "X_train, X_test , Y_train , Y_test = train_test_split(X,Y,test_size=0.25,random_state=26)\n",
    "        \n",
    "X_train, X_val, Y_train, Y_val = train_test_split(X_train, Y_train, test_size=0.2, random_state=1)"
   ]
  },
  {
   "cell_type": "markdown",
   "metadata": {},
   "source": [
    "# Part 5: Correlation plot\n",
    "\n",
    "As it can be seen that the feature Music is one of the top ranked features in the list above and so we plot the Music with Empathy to visualize why they are so highly correlated"
   ]
  },
  {
   "cell_type": "code",
   "execution_count": 215,
   "metadata": {},
   "outputs": [
    {
     "data": {
      "image/png": "[encoded data removed]",
      "text/plain": [
       "<matplotlib.figure.Figure at 0x7f615936eda0>"
      ]
     },
     "metadata": {},
     "output_type": "display_data"
    }
   ],
   "source": [
    "from matplotlib.pyplot import subplots, show\n",
    "\n",
    "list1 = music_valuesforline.tolist()\n",
    "list2 = emp_valuesforline.tolist()\n",
    "x = range(1010)\n",
    "\n",
    "fig, ax = subplots()\n",
    "ax.plot(x, list2,color='orange')\n",
    "ax.plot(x,list1,color='green')\n",
    "ax.set_xlabel(\"Index(1- 1010)\")\n",
    "ax.set_ylabel(\"Empathy(Orange) vs Music(Green)\")\n",
    "show()"
   ]
  },
  {
   "cell_type": "markdown",
   "metadata": {},
   "source": [
    "It can be seen that the values of Empathy and Music are pretty close to each other for the given index(1-1010 which correspond to column numbers in the csv file). \n",
    "\n",
    "Higher values of empathy correspond to a higher value of 'I like listening to music' and similarly certain lower values correspond as well, which is the reason why the two features are very well correlated."
   ]
  },
  {
   "cell_type": "markdown",
   "metadata": {},
   "source": [
    "# Part 6: Using cross validation to compare a few models\n",
    "\n",
    "The 10-fold cross validation procedure is used to evaluate each algorithm, importantly configured with the same random seed to ensure that the same splits to the training data are performed and that each algorithms is evaluated in precisely the same way. The following methods are evaluated:<br></br><br></br>\n",
    "1.LogisticRegression <br></br>\n",
    "2.LinearDiscriminantAnalysis<br></br>\n",
    "3.KNeighborsClassifier<br></br>\n",
    "4.DecisionTreeClassifier<br></br>\n",
    "5.GaussianNB<br></br>\n",
    "6.SVC<br></br>\n",
    "7.Ensemble\n",
    "\n",
    "Below I have plotted the box and whisker plots to compare the models"
   ]
  },
  {
   "cell_type": "code",
   "execution_count": 219,
   "metadata": {},
   "outputs": [
    {
     "name": "stdout",
     "output_type": "stream",
     "text": [
      "LR: 0.342083 (0.106073)\n",
      "LDA: 0.196250 (0.142819)\n",
      "KNN: 0.309167 (0.088541)\n",
      "CART: 0.302500 (0.084476)\n",
      "NB: 0.235417 (0.103099)\n",
      "SVM: 0.387500 (0.138306)\n",
      "Ensemble: 0.320417 (0.116077)\n"
     ]
    },
    {
     "data": {
      "image/png": "[encoded data removed]",
      "text/plain": [
       "<matplotlib.figure.Figure at 0x7f614d040e80>"
      ]
     },
     "metadata": {},
     "output_type": "display_data"
    }
   ],
   "source": [
    "import warnings\n",
    "warnings.simplefilter(\"ignore\")\n",
    "\n",
    "\n",
    "models = []\n",
    "models.append(('LR', LogisticRegression()))\n",
    "models.append(('LDA', LinearDiscriminantAnalysis()))\n",
    "models.append(('KNN', KNeighborsClassifier()))\n",
    "models.append(('CART', DecisionTreeClassifier()))\n",
    "models.append(('NB', GaussianNB()))\n",
    "models.append(('SVM', SVC()))\n",
    "clf1 = LogisticRegression(random_state=1)\n",
    "clf2 = RandomForestClassifier(random_state=1)\n",
    "clf3 = GaussianNB()\n",
    "models.append(('Ensemble', VotingClassifier(estimators=[('lr', clf1), ('rf', clf2), ('gnb', clf3)], voting='hard')))\n",
    "\n",
    "seed = 7\n",
    "results = []\n",
    "names = []\n",
    "scoring = 'accuracy'\n",
    "for name, model in models:\n",
    "    kfold = model_selection.KFold(n_splits=10, random_state=seed)\n",
    "    cv_results = model_selection.cross_val_score(model, X_val, Y_val, cv=kfold, scoring=scoring)\n",
    "    results.append(cv_results)\n",
    "    names.append(name)\n",
    "    msg = \"%s: %f (%f)\" % (name, cv_results.mean(), cv_results.std())\n",
    "    print(msg)\n",
    "    \n",
    "fig = plt.figure()\n",
    "fig.suptitle('Algorithm Comparison')\n",
    "ax = fig.add_subplot(111)\n",
    "plt.boxplot(results)\n",
    "ax.set_xticklabels(names)\n",
    "plt.show()"
   ]
  },
  {
   "cell_type": "markdown",
   "metadata": {},
   "source": [
    "We can see above that SVM outperforms all the other models while using the <b> Validation data </b> and thus we make use of SVM in order to find out the accuracy of the model on the test data."
   ]
  },
  {
   "cell_type": "markdown",
   "metadata": {},
   "source": [
    "# Part 7: Applying SVC on test data\n"
   ]
  },
  {
   "cell_type": "markdown",
   "metadata": {},
   "source": [
    "Thus, by applying SVC I got an accuracy of 45.84%"
   ]
  },
  {
   "cell_type": "code",
   "execution_count": 217,
   "metadata": {},
   "outputs": [
    {
     "name": "stdout",
     "output_type": "stream",
     "text": [
      "0.45849802371541504\n"
     ]
    }
   ],
   "source": [
    "model = SVC()\n",
    "model = model.fit(X_train, Y_train)\n",
    "predictions=model.predict(X_test)\n",
    "print(model.score(X_test, Y_test))"
   ]
  }
 ],
 "metadata": {
  "kernelspec": {
   "display_name": "Python 3",
   "language": "python",
   "name": "python3"
  },
  "language_info": {
   "codemirror_mode": {
    "name": "ipython",
    "version": 3
   },
   "file_extension": ".py",
   "mimetype": "text/x-python",
   "name": "python",
   "nbconvert_exporter": "python",
   "pygments_lexer": "ipython3",
   "version": "3.6.4"
  }
 },
 "nbformat": 4,
 "nbformat_minor": 2
}
