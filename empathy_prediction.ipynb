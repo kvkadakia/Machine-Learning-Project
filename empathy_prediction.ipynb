{
 "cells": [
  {
   "cell_type": "markdown",
   "metadata": {},
   "source": [
    "# Homework 5: Mini-project\n",
    "\n",
    "\n",
    "Task Description: You are working for a non-profit that is recruiting student volunteers to help with Alzheimer’s patients. You have been tasked with predicting how suitable a person is for this task by predicting how empathetic he or she is.\n",
    "\n",
    "We make use of the Young People\tSurvey dataset, please find the link to the dataset below:\n",
    "https://www.kaggle.com/miroslavsabo/young-people-survey/\n",
    "\n",
    "Predict a person’s “empathy” on a scale from 1 to 5."
   ]
  },
  {
   "cell_type": "markdown",
   "metadata": {},
   "source": [
    "# Part 1: Cleaning the data\n",
    "\n",
    "\n",
    "Imports:"
   ]
  },
  {
   "cell_type": "code",
   "execution_count": 30,
   "metadata": {},
   "outputs": [],
   "source": [
    "import pandas\n",
    "import numpy as np\n",
    "from sklearn.model_selection import train_test_split\n",
    "from sklearn.linear_model import LinearRegression\n",
    "from sklearn.metrics import accuracy_score\n",
    "from sklearn.ensemble import ExtraTreesClassifier\n",
    "from sklearn.linear_model import LogisticRegression\n",
    "from sklearn.feature_selection import RFE\n",
    "from sklearn.svm import LinearSVC\n",
    "from sklearn.ensemble import RandomForestClassifier\n",
    "from sklearn.multiclass import OneVsRestClassifier\n",
    "from sklearn.ensemble import BaggingClassifier\n",
    "from sklearn.neighbors import KNeighborsClassifier\n",
    "from sklearn.linear_model import LogisticRegression\n",
    "from sklearn.naive_bayes import GaussianNB\n",
    "from sklearn.ensemble import RandomForestClassifier\n",
    "from sklearn.ensemble import VotingClassifier\n",
    "from sklearn.model_selection import GridSearchCV\n",
    "from sklearn.svm import SVC\n",
    "from sklearn.tree import DecisionTreeClassifier\n",
    "import matplotlib.pyplot as plt\n",
    "from sklearn import model_selection\n",
    "from sklearn.linear_model import LogisticRegression\n",
    "from sklearn.tree import DecisionTreeClassifier\n",
    "from sklearn.neighbors import KNeighborsClassifier\n",
    "from sklearn.discriminant_analysis import LinearDiscriminantAnalysis"
   ]
  },
  {
   "cell_type": "markdown",
   "metadata": {},
   "source": [
    "Here, we'll clean up the data firstly in order to remove unnecessary values.\n",
    "\n",
    "\n",
    "For replacing NAN values we simply find the NAN values and replace them by the column mean:"
   ]
  },
  {
   "cell_type": "code",
   "execution_count": 42,
   "metadata": {},
   "outputs": [],
   "source": [
    "dataset = pandas.read_csv('responses.csv')\n",
    "\n",
    "#fill up with median\n",
    "dataset = dataset.fillna(dataset.median(axis=0))"
   ]
  },
  {
   "cell_type": "markdown",
   "metadata": {},
   "source": [
    "Now we drop the columns which don't have numeric values since these columns will be of no use to predict the numeric value for Empathy\n",
    "\n",
    "Also we drop the Empathy column since we have to predict Empathy by making use of columns other than Empathy\n",
    "\n",
    "Now, we assign X and Y to their respective values, here X has all the columns except for the one's mentioned in the bracket\n",
    "\n",
    "Y has empathy in it"
   ]
  },
  {
   "cell_type": "code",
   "execution_count": 43,
   "metadata": {},
   "outputs": [],
   "source": [
    "X = dataset.drop(['Empathy','Punctuality','Alcohol','Smoking', 'Lying', 'Internet usage', 'Gender','Left - right handed','Education','Only child','Village - town','House - block of flats'], axis=1)\n",
    "Y = dataset[['Empathy']]"
   ]
  },
  {
   "cell_type": "markdown",
   "metadata": {},
   "source": [
    "# Part 2: Selecting the best features to predict Empathy\n",
    "\n",
    "Here, we select the best features in order to predict Empathy by using Recursive Feature Elimination\n",
    "\n",
    "The Recursive Feature Elimination (or RFE) works by recursively removing attributes and building a model on those attributes that remain. It uses the model accuracy to identify which attributes (and combination of attributes) contribute the most to predicting the target attribute. Below we use RFE with the logistic regression algorithm to select the top 10 features.\n",
    "\n",
    "\n",
    "You can further change the values of the number of attributes(10 in this case) being used for predicition and find out how changing the number of attributes affects the accuracy of the model"
   ]
  },
  {
   "cell_type": "code",
   "execution_count": 57,
   "metadata": {},
   "outputs": [
    {
     "name": "stdout",
     "output_type": "stream",
     "text": [
      "Num Features: 41\n",
      "Selected Features: [ True  True  True False False False False False False False False False\n",
      " False False  True  True False False False  True  True False  True False\n",
      " False False False False  True False False False  True False False  True\n",
      "  True False False  True False False False False  True False False False\n",
      " False False False False False False False  True False False  True False\n",
      " False False False False False False False False False False False False\n",
      "  True False False  True False False  True False  True False False  True\n",
      " False  True False False False  True  True False False  True  True False\n",
      " False False False  True False  True False False False False False  True\n",
      " False  True False  True  True False False  True False  True  True False\n",
      " False  True False False False  True False  True False False  True False\n",
      " False  True False False False  True]\n",
      "Feature Ranking: [ 1  1  1 41 50 59 21  5 88 64 90 28  7 73  1  1 14 70 16  1  1 65  1 81\n",
      " 47 34 56 62  1  6 39 94  1 75 37  1  1 49 77  1 55 54 61 84  1 76  2 17\n",
      "  9 44 58  4 86 69 87  1 18 46  1 42 72 53 35 71 68 57 66 13 96 79 74 12\n",
      "  1 43 63  1 45 19  1 20  1 83 36  1 60  1 22 89 92  1  1 80 29  1  1  3\n",
      " 93  8 82  1 10  1 67 52 48 26 91  1 40  1 31  1  1 23 33  1 78  1  1 30\n",
      " 38  1 27 51 32  1 85  1 25 15  1 24 11  1 95 97 98  1]\n"
     ]
    }
   ],
   "source": [
    "model = LogisticRegression()\n",
    "rfe = RFE(model, 41)\n",
    "fit = rfe.fit(X, Y)\n",
    "print(\"Num Features: {}\".format(fit.n_features_))\n",
    "print(\"Selected Features: {}\".format(fit.support_))\n",
    "print(\"Feature Ranking: {}\".format(fit.ranking_))"
   ]
  },
  {
   "cell_type": "markdown",
   "metadata": {},
   "source": [
    "Append the index of the top 10 elements by checking the columns ranked 1st which can be found using the fit.ranking_ call "
   ]
  },
  {
   "cell_type": "code",
   "execution_count": 45,
   "metadata": {},
   "outputs": [],
   "source": [
    "#Find the index of the columns that are ranked 1\n",
    "count = 0\n",
    "val_index = []\n",
    "for x in np.nditer(fit.ranking_):\n",
    "    if(x==1):\n",
    "        val_index.append(count)\n",
    "    count+=1\n",
    "\n",
    "#Add the column names to the list    \n",
    "pos = 0\n",
    "top_feat = []\n",
    "for i,k in enumerate(X):\n",
    "    if(i==val_index[pos]):\n",
    "        top_feat.append(k)\n",
    "        if(pos == len(val_index)-1):\n",
    "            break\n",
    "        pos+=1"
   ]
  },
  {
   "cell_type": "markdown",
   "metadata": {},
   "source": [
    "You can check the top 41 attributes found using RFE below:"
   ]
  },
  {
   "cell_type": "code",
   "execution_count": 46,
   "metadata": {},
   "outputs": [
    {
     "name": "stdout",
     "output_type": "stream",
     "text": [
      "['Music', 'Slow songs or fast songs', 'Dance', 'Rock n roll', 'Alternative', 'Movies', 'Horror', 'Comedy', 'Documentary', 'Psychology', 'Physics', 'Internet', 'Biology', 'Medicine', 'Gardening', 'Science and technology', 'Fear of public speaking', 'Prioritising workload', 'Thinking ahead', 'Reliability', 'Friends versus money', 'Fake', 'Self-criticism', 'Judgment calls', 'Giving', 'Compassion to animals', 'Changing the past', 'Dreams', 'Appearence and gestures', 'Achievements', 'Children', 'Assertiveness', 'Public speaking', 'Life struggles', 'Happiness in life', 'Personality', \"Parents' advice\", 'Finances', 'Entertainment spending', 'Spending on healthy eating', 'Number of siblings']\n"
     ]
    }
   ],
   "source": [
    "print(top_feat)"
   ]
  },
  {
   "cell_type": "markdown",
   "metadata": {},
   "source": [
    "# Part 3: Using cross validation to compare a few models\n",
    "\n",
    "The 10-fold cross validation procedure is used to evaluate each algorithm, importantly configured with the same random seed to ensure that the same splits to the training data are performed and that each algorithms is evaluated in precisely the same way. The following algorithms are evaluated:\n",
    "1.LogisticRegression\n",
    "2.LinearDiscriminantAnalysis\n",
    "3.KNeighborsClassifier\n",
    "4.DecisionTreeClassifier\n",
    "5.GaussianNB\n",
    "6.SVC\n",
    "7.Ensemble\n",
    "\n",
    "Below I have plotted the box and whisker plots to compare the models"
   ]
  },
  {
   "cell_type": "code",
   "execution_count": 55,
   "metadata": {},
   "outputs": [
    {
     "name": "stdout",
     "output_type": "stream",
     "text": [
      "LR: 0.399010 (0.038614)\n",
      "LDA: 0.405941 (0.028004)\n",
      "KNN: 0.285149 (0.025359)\n",
      "CART: 0.321782 (0.064963)\n",
      "NB: 0.384158 (0.038550)\n",
      "SVM: 0.406931 (0.079140)\n",
      "Ensemble: 0.391089 (0.040157)\n"
     ]
    },
    {
     "data": {
      "image/png": "[encoded data removed]",
      "text/plain": [
       "<matplotlib.figure.Figure at 0x7f4f7e2bb9b0>"
      ]
     },
     "metadata": {},
     "output_type": "display_data"
    }
   ],
   "source": [
    "import warnings\n",
    "warnings.simplefilter(\"ignore\")\n",
    "models = []\n",
    "models.append(('LR', LogisticRegression()))\n",
    "models.append(('LDA', LinearDiscriminantAnalysis()))\n",
    "models.append(('KNN', KNeighborsClassifier()))\n",
    "models.append(('CART', DecisionTreeClassifier()))\n",
    "models.append(('NB', GaussianNB()))\n",
    "models.append(('SVM', SVC()))\n",
    "clf1 = LogisticRegression(random_state=1)\n",
    "clf2 = RandomForestClassifier(random_state=1)\n",
    "clf3 = GaussianNB()\n",
    "ensemble = VotingClassifier(estimators=[('lr', clf1), ('rf', clf2), ('gnb', clf3)], voting='hard')\n",
    "models.append(('Ensemble', ensemble))\n",
    "\n",
    "seed = 7\n",
    "results = []\n",
    "names = []\n",
    "scoring = 'accuracy'\n",
    "for name, model in models:\n",
    "    kfold = model_selection.KFold(n_splits=10, random_state=seed)\n",
    "    cv_results = model_selection.cross_val_score(model, X, Y, cv=kfold, scoring=scoring)\n",
    "    results.append(cv_results)\n",
    "    names.append(name)\n",
    "    msg = \"%s: %f (%f)\" % (name, cv_results.mean(), cv_results.std())\n",
    "    print(msg)\n",
    "    \n",
    "fig = plt.figure()\n",
    "fig.suptitle('Algorithm Comparison')\n",
    "ax = fig.add_subplot(111)\n",
    "plt.boxplot(results)\n",
    "ax.set_xticklabels(names)\n",
    "plt.show()"
   ]
  },
  {
   "cell_type": "markdown",
   "metadata": {},
   "source": [
    "# Part 4: Using SVC which is giving the best cross validation score"
   ]
  },
  {
   "cell_type": "code",
   "execution_count": 56,
   "metadata": {},
   "outputs": [
    {
     "name": "stdout",
     "output_type": "stream",
     "text": [
      "0.4505928853754941\n"
     ]
    }
   ],
   "source": [
    "model = SVC()\n",
    "model = model.fit(X_train, Y_train)\n",
    "predictions=model.predict(X_test)\n",
    "print(model.score(X_test, Y_test))"
   ]
  }
 ],
 "metadata": {
  "kernelspec": {
   "display_name": "Python 3",
   "language": "python",
   "name": "python3"
  },
  "language_info": {
   "codemirror_mode": {
    "name": "ipython",
    "version": 3
   },
   "file_extension": ".py",
   "mimetype": "text/x-python",
   "name": "python",
   "nbconvert_exporter": "python",
   "pygments_lexer": "ipython3",
   "version": "3.6.4"
  }
 },
 "nbformat": 4,
 "nbformat_minor": 2
}
