{
 "cells": [
  {
   "cell_type": "markdown",
   "metadata": {},
   "source": [
    "# Homework 5: Mini-project\n",
    "\n",
    "\n",
    "Task Description: You are working for a non-profit that is recruiting student volunteers to help with Alzheimer’s patients. You have been tasked with predicting how suitable a person is for this task by predicting how empathetic he or she is.\n",
    "\n",
    "We make use of the Young People\tSurvey dataset, please find the link to the dataset below:\n",
    "https://www.kaggle.com/miroslavsabo/young-people-survey/\n",
    "\n",
    "Predict a person’s “empathy” on a scale from 1 to 5."
   ]
  },
  {
   "cell_type": "markdown",
   "metadata": {},
   "source": [
    "\n",
    "\n",
    "Imports:"
   ]
  },
  {
   "cell_type": "code",
   "execution_count": 19,
   "metadata": {},
   "outputs": [],
   "source": [
    "import pandas\n",
    "import numpy as np\n",
    "from sklearn.model_selection import train_test_split\n",
    "from sklearn.linear_model import LinearRegression\n",
    "from sklearn.metrics import accuracy_score\n",
    "from sklearn.ensemble import ExtraTreesClassifier\n",
    "from sklearn.linear_model import LogisticRegression\n",
    "from sklearn.feature_selection import RFE\n",
    "from sklearn.svm import LinearSVC\n",
    "from sklearn.ensemble import RandomForestClassifier\n",
    "from sklearn.multiclass import OneVsRestClassifier\n",
    "from sklearn.ensemble import BaggingClassifier\n",
    "from sklearn.neighbors import KNeighborsClassifier\n",
    "from sklearn.linear_model import LogisticRegression\n",
    "from sklearn.naive_bayes import GaussianNB\n",
    "from sklearn.ensemble import RandomForestClassifier\n",
    "from sklearn.ensemble import VotingClassifier\n",
    "from sklearn.model_selection import GridSearchCV\n",
    "from sklearn.svm import SVC\n",
    "from sklearn.tree import DecisionTreeClassifier\n",
    "import matplotlib.pyplot as plt\n",
    "from sklearn import model_selection\n",
    "from sklearn.linear_model import LogisticRegression\n",
    "from sklearn.tree import DecisionTreeClassifier\n",
    "from sklearn.neighbors import KNeighborsClassifier\n",
    "from sklearn.discriminant_analysis import LinearDiscriminantAnalysis"
   ]
  },
  {
   "cell_type": "markdown",
   "metadata": {},
   "source": [
    "# Part 1: a) Cleaning the data\n"
   ]
  },
  {
   "cell_type": "markdown",
   "metadata": {},
   "source": [
    "Here, we'll clean up the data firstly in order to remove unnecessary values.\n",
    "\n",
    "For replacing NAN values we simply find the NAN values and replace them by the column median:"
   ]
  },
  {
   "cell_type": "code",
   "execution_count": 37,
   "metadata": {},
   "outputs": [],
   "source": [
    "dataset = pandas.read_csv('responses.csv')\n",
    "\n",
    "#fill up with median\n",
    "dataset = dataset.fillna(dataset.median(axis=0))\n",
    "\n",
    "#Storing the values to perform data visualization\n",
    "gender_values = dataset[['Gender']].values\n",
    "empathy_values = dataset[['Empathy']].values\n",
    "music_values = dataset[['Music']]\n",
    "\n",
    "music_values = music_values.values\n",
    "emp_valuesforline = np.squeeze(empathy_values)\n",
    "music_valuesforline = np.squeeze(music_values)"
   ]
  },
  {
   "cell_type": "markdown",
   "metadata": {},
   "source": [
    "# Part 1: b) Applying one hot encoding on the categorical values\n"
   ]
  },
  {
   "cell_type": "code",
   "execution_count": 38,
   "metadata": {},
   "outputs": [],
   "source": [
    "dataset = pandas.get_dummies(dataset, columns=['Punctuality','Alcohol','Smoking', 'Lying', 'Internet usage', 'Gender','Left - right handed','Education','Only child','Village - town','House - block of flats'])"
   ]
  },
  {
   "cell_type": "markdown",
   "metadata": {},
   "source": [
    "Now we drop the Empathy column since it has to be predicted and hence not to be used for prediction\n",
    "\n",
    "Now, we assign X and Y to their respective values, here X has all the columns except for the one's mentioned in the bracket\n",
    "\n",
    "Y has empathy in it"
   ]
  },
  {
   "cell_type": "code",
   "execution_count": 39,
   "metadata": {},
   "outputs": [],
   "source": [
    "Y = dataset[['Empathy']]\n",
    "X = dataset.drop(['Empathy'], axis=1)"
   ]
  },
  {
   "cell_type": "markdown",
   "metadata": {},
   "source": [
    "# Part 2: Pie Chart to analyze the data\n",
    "        \n",
    "By looking at the pie chart below one can analyze the distribution of empathy between Males and Females. I have considered the values greater than or equal to 4 as empathetic."
   ]
  },
  {
   "cell_type": "code",
   "execution_count": 40,
   "metadata": {},
   "outputs": [
    {
     "data": {
      "image/png": "[encoded data removed]",
      "text/plain": [
       "<matplotlib.figure.Figure at 0x7f63e41916a0>"
      ]
     },
     "metadata": {},
     "output_type": "display_data"
    }
   ],
   "source": [
    "import matplotlib.pyplot as plt\n",
    "\n",
    "ma_empathetic = 0\n",
    "fe_empathetic = 0\n",
    "\n",
    "\n",
    "for i,value in enumerate(gender_values):\n",
    "    if(value == 'male' and empathy_values[i]>=4):\n",
    "        ma_empathetic += 1\n",
    "    elif(value == 'female' and empathy_values[i]>=4):\n",
    "        fe_empathetic += 1\n",
    "\n",
    "labels = ['Male','Female']\n",
    "sizes = [ma_empathetic, fe_empathetic]\n",
    "\n",
    "fig1, ax1 = plt.subplots()\n",
    "ax1.pie(sizes,  labels=labels, autopct='%1.1f%%',shadow=True, startangle=90)\n",
    "ax1.axis('equal')  \n",
    "plt.title('Male vs Female Empathy', bbox={'facecolor':'0.8', 'pad':5})\n",
    "plt.show()"
   ]
  },
  {
   "cell_type": "markdown",
   "metadata": {},
   "source": [
    "# Part 3: Selecting the best features to predict Empathy\n",
    "\n",
    "Here, we select the best features in order to predict Empathy by using Recursive Feature Elimination\n",
    "\n",
    "The Recursive Feature Elimination (or RFE) works by recursively removing attributes and building a model on those attributes that remain. It uses the model accuracy to identify which attributes (and combination of attributes) contribute the most to predicting the target attribute. Below we use RFE with the logistic regression algorithm to select the top 10 features.\n",
    "\n",
    "\n",
    "You can further change the values of the number of attributes being used for predicition and find out how changing the number of attributes affects the accuracy of the model"
   ]
  },
  {
   "cell_type": "code",
   "execution_count": 41,
   "metadata": {},
   "outputs": [
    {
     "name": "stdout",
     "output_type": "stream",
     "text": [
      "Num Features: 141\n",
      "Selected Features: [ True  True  True  True  True  True  True  True False  True False False\n",
      "  True False  True  True  True  True  True  True  True  True  True  True\n",
      "  True  True  True  True  True  True  True False  True  True  True  True\n",
      "  True  True False  True  True  True  True False  True False  True  True\n",
      "  True  True False  True False False False  True  True  True  True  True\n",
      "  True  True  True False False  True  True  True False False False  True\n",
      "  True  True  True  True  True  True  True  True  True False  True  True\n",
      "  True  True  True False False  True  True False  True  True  True  True\n",
      " False  True False  True  True  True  True  True  True  True False  True\n",
      "  True  True  True  True  True  True  True  True False  True  True  True\n",
      "  True  True  True  True  True  True False  True  True  True  True  True\n",
      "  True  True False False False False  True  True  True  True  True  True\n",
      "  True False  True  True  True  True  True  True  True  True  True  True\n",
      "  True  True  True  True  True  True  True  True  True  True  True  True\n",
      "  True  True  True  True]\n",
      "Feature Ranking: [ 1  1  1  1  1  1  1  1 16  1 18  2  1  3  1  1  1  1  1  1  1  1  1  1\n",
      "  1  1  1  1  1  1  1 29  1  1  1  1  1  1 12  1  1  1  1 15  1 19  1  1\n",
      "  1  1  4  1 23  9 21  1  1  1  1  1  1  1  1  5  6  1  1  1 30 17  8  1\n",
      "  1  1  1  1  1  1  1  1  1 10  1  1  1  1  1 27 25  1  1  7  1  1  1  1\n",
      " 26  1 22  1  1  1  1  1  1  1 28  1  1  1  1  1  1  1  1  1 13  1  1  1\n",
      "  1  1  1  1  1  1 20  1  1  1  1  1  1  1 24 31 32 14  1  1  1  1  1  1\n",
      "  1 11  1  1  1  1  1  1  1  1  1  1  1  1  1  1  1  1  1  1  1  1  1  1\n",
      "  1  1  1  1]\n"
     ]
    }
   ],
   "source": [
    "model = LogisticRegression()\n",
    "rfe = RFE(model, 141)\n",
    "fit = rfe.fit(X, Y)\n",
    "print(\"Num Features: {}\".format(fit.n_features_))\n",
    "print(\"Selected Features: {}\".format(fit.support_))\n",
    "print(\"Feature Ranking: {}\".format(fit.ranking_))"
   ]
  },
  {
   "cell_type": "markdown",
   "metadata": {},
   "source": [
    "Append the index of the selected elements by checking the columns ranked 1st which can be found using the fit.ranking_ call "
   ]
  },
  {
   "cell_type": "code",
   "execution_count": 42,
   "metadata": {},
   "outputs": [],
   "source": [
    "#Find the index of the columns that are ranked 1\n",
    "count = 0\n",
    "val_index = []\n",
    "for x in np.nditer(fit.ranking_):\n",
    "    if(x==1):\n",
    "        val_index.append(count)\n",
    "    count+=1\n",
    "\n",
    "#Add the column names to the list    \n",
    "pos = 0\n",
    "top_feat = []\n",
    "for i,k in enumerate(X):\n",
    "    if(i==val_index[pos]):\n",
    "        top_feat.append(k)\n",
    "        if(pos == len(val_index)-1):\n",
    "            break\n",
    "        pos+=1"
   ]
  },
  {
   "cell_type": "markdown",
   "metadata": {},
   "source": [
    "You can check the top attributes found using RFE below:"
   ]
  },
  {
   "cell_type": "code",
   "execution_count": 43,
   "metadata": {},
   "outputs": [
    {
     "name": "stdout",
     "output_type": "stream",
     "text": [
      "['Music', 'Slow songs or fast songs', 'Dance', 'Folk', 'Country', 'Classical music', 'Musical', 'Pop', 'Metal or Hardrock', 'Reggae, Ska', 'Rock n roll', 'Alternative', 'Latino', 'Techno, Trance', 'Opera', 'Movies', 'Horror', 'Thriller', 'Comedy', 'Romantic', 'Sci-fi', 'War', 'Fantasy/Fairy tales', 'Animated', 'Documentary', 'Western', 'Action', 'Psychology', 'Politics', 'Mathematics', 'Physics', 'Internet', 'PC', 'Biology', 'Chemistry', 'Reading', 'Geography', 'Medicine', 'Cars', 'Art exhibitions', 'Religion', 'Countryside, outdoors', 'Musical instruments', 'Gardening', 'Celebrities', 'Shopping', 'Science and technology', 'Theatre', 'Fun with friends', 'Adrenaline sports', 'Pets', 'Darkness', 'Heights', 'Spiders', 'Dangerous dogs', 'Fear of public speaking', 'Healthy eating', 'Daily events', 'Prioritising workload', 'Writing notes', 'Workaholism', 'Thinking ahead', 'Final judgement', 'Reliability', 'Loss of interest', 'Friends versus money', 'Funniness', 'Fake', 'Criminal damage', 'Self-criticism', 'Judgment calls', 'Eating to survive', 'Giving', 'Compassion to animals', 'Borrowed stuff', 'Cheating in school', 'Changing the past', 'God', 'Dreams', 'Charity', 'Number of friends', 'Waiting', 'New environment', 'Appearence and gestures', 'Socializing', 'Achievements', 'Responding to a serious letter', 'Children', 'Assertiveness', 'Getting angry', 'Knowing the right people', 'Public speaking', 'Life struggles', 'Happiness in life', 'Energy levels', 'Small - big dogs', 'Personality', 'Finding lost valuables', 'Getting up', 'Interests or hobbies', \"Parents' advice\", 'Finances', 'Shopping centres', 'Branded clothing', 'Entertainment spending', 'Spending on looks', 'Spending on gadgets', 'Spending on healthy eating', 'Punctuality_i am always on time', 'Punctuality_i am often early', 'Punctuality_i am often running late', 'Alcohol_drink a lot', 'Alcohol_never', 'Alcohol_social drinker', 'Smoking_current smoker', 'Smoking_never smoked', 'Smoking_tried smoking', 'Lying_everytime it suits me', 'Lying_never', 'Lying_only to avoid hurting someone', 'Lying_sometimes', 'Internet usage_few hours a day', 'Internet usage_less than an hour a day', 'Internet usage_most of the day', 'Internet usage_no time at all', 'Gender_female', 'Gender_male', 'Left - right handed_left handed', 'Left - right handed_right handed', 'Education_college/bachelor degree', 'Education_currently a primary school pupil', 'Education_doctorate degree', 'Education_masters degree', 'Education_primary school', 'Education_secondary school', 'Only child_no', 'Only child_yes', 'Village - town_city', 'Village - town_village', 'House - block of flats_block of flats', 'House - block of flats_house/bungalow']\n"
     ]
    }
   ],
   "source": [
    "print(top_feat)"
   ]
  },
  {
   "cell_type": "markdown",
   "metadata": {},
   "source": [
    "# Part 4: Correlation plot\n",
    "\n",
    "As it can be seen that the feature Music is one of the top ranked features and so we plot the feature with Empathy to visualize why they are so highly correlated"
   ]
  },
  {
   "cell_type": "code",
   "execution_count": 44,
   "metadata": {},
   "outputs": [
    {
     "data": {
      "image/png": "[encoded data removed]",
      "text/plain": [
       "<matplotlib.figure.Figure at 0x7f63f01b0208>"
      ]
     },
     "metadata": {},
     "output_type": "display_data"
    }
   ],
   "source": [
    "list1 = music_valuesforline.tolist()\n",
    "list2 = emp_valuesforline.tolist()\n",
    "x = range(1010)\n",
    "\n",
    "from matplotlib.pyplot import subplots, show\n",
    "\n",
    "fig, ax = subplots()\n",
    "ax.plot(x, list2,color='orange')\n",
    "ax.plot(x,list1,color='green')\n",
    "ax.set_xlabel(\"Index(1- 1010)\")\n",
    "ax.set_ylabel(\"Empathy\")\n",
    "show()\n"
   ]
  },
  {
   "cell_type": "markdown",
   "metadata": {},
   "source": [
    "It can be seen that the values of Empathy and Music are pretty close to each other for the given indices. Higher values of empathy correspond to a higher value of 'I like listening to music' and similarly certain lower values correspond as well, which is the reason why the two features are very well correlated."
   ]
  },
  {
   "cell_type": "markdown",
   "metadata": {},
   "source": [
    "# Part 5: Using cross validation to compare a few models\n",
    "\n",
    "The 10-fold cross validation procedure is used to evaluate each algorithm, importantly configured with the same random seed to ensure that the same splits to the training data are performed and that each algorithms is evaluated in precisely the same way. The following algorithms are evaluated:\n",
    "1.LogisticRegression\n",
    "2.LinearDiscriminantAnalysis\n",
    "3.KNeighborsClassifier\n",
    "4.DecisionTreeClassifier\n",
    "5.GaussianNB\n",
    "6.SVC\n",
    "7.Ensemble\n",
    "\n",
    "Below I have plotted the box and whisker plots to compare the models"
   ]
  },
  {
   "cell_type": "code",
   "execution_count": 45,
   "metadata": {},
   "outputs": [
    {
     "name": "stdout",
     "output_type": "stream",
     "text": [
      "LR: 0.406931 (0.050959)\n",
      "LDA: 0.415842 (0.044279)\n",
      "KNN: 0.307921 (0.030178)\n",
      "CART: 0.323762 (0.059579)\n",
      "NB: 0.350495 (0.052429)\n",
      "SVM: 0.440594 (0.064204)\n"
     ]
    },
    {
     "data": {
      "image/png": "[encoded data removed]",
      "text/plain": [
       "<matplotlib.figure.Figure at 0x7f63ef9eccc0>"
      ]
     },
     "metadata": {},
     "output_type": "display_data"
    }
   ],
   "source": [
    "import warnings\n",
    "warnings.simplefilter(\"ignore\")\n",
    "\n",
    "X = dataset[top_feat]\n",
    "Y = dataset[['Empathy']]\n",
    "X_train, X_test , Y_train , Y_test = train_test_split(X,Y,test_size=0.25,random_state=26)\n",
    "\n",
    "models = []\n",
    "models.append(('LR', LogisticRegression()))\n",
    "models.append(('LDA', LinearDiscriminantAnalysis()))\n",
    "models.append(('KNN', KNeighborsClassifier()))\n",
    "models.append(('CART', DecisionTreeClassifier()))\n",
    "models.append(('NB', GaussianNB()))\n",
    "models.append(('SVM', SVC()))\n",
    "\n",
    "model = SVC()\n",
    "model = model.fit(X_train, Y_train)\n",
    "predictions=model.predict(X_test)\n",
    "\n",
    "seed = 7\n",
    "results = []\n",
    "names = []\n",
    "scoring = 'accuracy'\n",
    "for name, model in models:\n",
    "    kfold = model_selection.KFold(n_splits=10, random_state=seed)\n",
    "    cv_results = model_selection.cross_val_score(model, X, Y, cv=kfold, scoring=scoring)\n",
    "    results.append(cv_results)\n",
    "    names.append(name)\n",
    "    msg = \"%s: %f (%f)\" % (name, cv_results.mean(), cv_results.std())\n",
    "    print(msg)\n",
    "    \n",
    "fig = plt.figure()\n",
    "fig.suptitle('Algorithm Comparison')\n",
    "ax = fig.add_subplot(111)\n",
    "plt.boxplot(results)\n",
    "ax.set_xticklabels(names)\n",
    "plt.show()"
   ]
  },
  {
   "cell_type": "markdown",
   "metadata": {},
   "source": [
    "# Part 6: Using SVC which is giving the best cross validation score"
   ]
  },
  {
   "cell_type": "markdown",
   "metadata": {},
   "source": [
    "Thus, by applying SVC we get a accuracy of 45.54%"
   ]
  },
  {
   "cell_type": "code",
   "execution_count": 46,
   "metadata": {},
   "outputs": [
    {
     "name": "stdout",
     "output_type": "stream",
     "text": [
      "0.45454545454545453\n"
     ]
    }
   ],
   "source": [
    "model = SVC()\n",
    "model = model.fit(X_train, Y_train)\n",
    "predictions=model.predict(X_test)\n",
    "print(model.score(X_test, Y_test))"
   ]
  }
 ],
 "metadata": {
  "kernelspec": {
   "display_name": "Python 3",
   "language": "python",
   "name": "python3"
  },
  "language_info": {
   "codemirror_mode": {
    "name": "ipython",
    "version": 3
   },
   "file_extension": ".py",
   "mimetype": "text/x-python",
   "name": "python",
   "nbconvert_exporter": "python",
   "pygments_lexer": "ipython3",
   "version": "3.6.4"
  }
 },
 "nbformat": 4,
 "nbformat_minor": 2
}
